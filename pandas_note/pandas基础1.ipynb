{
 "cells": [
  {
   "cell_type": "code",
   "execution_count": 47,
   "metadata": {
    "scrolled": false
   },
   "outputs": [
    {
     "name": "stdout",
     "output_type": "stream",
     "text": [
      "0     1.0\n",
      "1     3.0\n",
      "2     6.0\n",
      "3     NaN\n",
      "4    44.0\n",
      "5     1.0\n",
      "dtype: float64\n"
     ]
    }
   ],
   "source": [
    "import numpy as np\n",
    "import pandas as pd\n",
    "# Series是pandas的一种数据结构，在pandas中，默认以float64来存储数据\n",
    "s = pd.Series([1, 3, 6, np.nan, 44, 1])  \n",
    "print(s)"
   ]
  },
  {
   "cell_type": "code",
   "execution_count": 48,
   "metadata": {},
   "outputs": [
    {
     "name": "stdout",
     "output_type": "stream",
     "text": [
      "DatetimeIndex(['2018-02-01', '2018-02-02', '2018-02-03', '2018-02-04',\n",
      "               '2018-02-05', '2018-02-06'],\n",
      "              dtype='datetime64[ns]', freq='D')\n"
     ]
    }
   ],
   "source": [
    "# date_range 日期表序列,第一个参数表示起始日期，第二个参数表示序列个数\n",
    "# dtpye是日期\n",
    "dates = pd.date_range(\"20180201\", periods=6)\n",
    "print(dates)\n"
   ]
  },
  {
   "cell_type": "code",
   "execution_count": 86,
   "metadata": {
    "scrolled": false
   },
   "outputs": [
    {
     "name": "stdout",
     "output_type": "stream",
     "text": [
      "   0  1   2   3\n",
      "0  0  1   2   3\n",
      "1  4  5   6   7\n",
      "2  8  9  10  11\n"
     ]
    },
    {
     "data": {
      "text/html": [
       "<div>\n",
       "<style scoped>\n",
       "    .dataframe tbody tr th:only-of-type {\n",
       "        vertical-align: middle;\n",
       "    }\n",
       "\n",
       "    .dataframe tbody tr th {\n",
       "        vertical-align: top;\n",
       "    }\n",
       "\n",
       "    .dataframe thead th {\n",
       "        text-align: right;\n",
       "    }\n",
       "</style>\n",
       "<table border=\"1\" class=\"dataframe\">\n",
       "  <thead>\n",
       "    <tr style=\"text-align: right;\">\n",
       "      <th></th>\n",
       "      <th>a</th>\n",
       "      <th>b</th>\n",
       "      <th>c</th>\n",
       "      <th>d</th>\n",
       "    </tr>\n",
       "  </thead>\n",
       "  <tbody>\n",
       "    <tr>\n",
       "      <th>2018-02-01</th>\n",
       "      <td>-0.627418</td>\n",
       "      <td>-0.623238</td>\n",
       "      <td>-0.957666</td>\n",
       "      <td>-0.992986</td>\n",
       "    </tr>\n",
       "    <tr>\n",
       "      <th>2018-02-02</th>\n",
       "      <td>0.292329</td>\n",
       "      <td>0.473569</td>\n",
       "      <td>0.939141</td>\n",
       "      <td>0.227174</td>\n",
       "    </tr>\n",
       "    <tr>\n",
       "      <th>2018-02-03</th>\n",
       "      <td>2.104086</td>\n",
       "      <td>0.540964</td>\n",
       "      <td>-0.011172</td>\n",
       "      <td>-0.675875</td>\n",
       "    </tr>\n",
       "    <tr>\n",
       "      <th>2018-02-04</th>\n",
       "      <td>-1.154923</td>\n",
       "      <td>0.602626</td>\n",
       "      <td>-1.360081</td>\n",
       "      <td>0.538327</td>\n",
       "    </tr>\n",
       "    <tr>\n",
       "      <th>2018-02-05</th>\n",
       "      <td>1.705209</td>\n",
       "      <td>0.121180</td>\n",
       "      <td>0.605148</td>\n",
       "      <td>0.203812</td>\n",
       "    </tr>\n",
       "    <tr>\n",
       "      <th>2018-02-06</th>\n",
       "      <td>-0.707460</td>\n",
       "      <td>-1.400066</td>\n",
       "      <td>0.777646</td>\n",
       "      <td>-0.289695</td>\n",
       "    </tr>\n",
       "  </tbody>\n",
       "</table>\n",
       "</div>"
      ],
      "text/plain": [
       "                   a         b         c         d\n",
       "2018-02-01 -0.627418 -0.623238 -0.957666 -0.992986\n",
       "2018-02-02  0.292329  0.473569  0.939141  0.227174\n",
       "2018-02-03  2.104086  0.540964 -0.011172 -0.675875\n",
       "2018-02-04 -1.154923  0.602626 -1.360081  0.538327\n",
       "2018-02-05  1.705209  0.121180  0.605148  0.203812\n",
       "2018-02-06 -0.707460 -1.400066  0.777646 -0.289695"
      ]
     },
     "execution_count": 86,
     "metadata": {},
     "output_type": "execute_result"
    }
   ],
   "source": [
    "# DataFrame是pandas的另一种数据结构,相当于一张表，当不指定行和列的表头时，默认从0开始标号，示例如下。\n",
    "data1 = pd.DataFrame(np.arange(12).reshape(3, 4))\n",
    "print(data1)\n",
    "\n",
    "# 若指定表头，则需要带上index参数和columns参数\n",
    "data2 = pd.DataFrame(np.random.randn(6, 4), index=dates, columns=['a', 'b', 'c', 'd'])\n",
    "data2"
   ]
  },
  {
   "cell_type": "code",
   "execution_count": 50,
   "metadata": {},
   "outputs": [
    {
     "name": "stdout",
     "output_type": "stream",
     "text": [
      "   x  y\n",
      "0  1  a\n",
      "1  2  a\n",
      "2  3  b\n",
      "3  4  b\n",
      "4  5  c\n",
      "--------------------\n",
      "   x  y\n",
      "0  2  2\n",
      "1  3  2\n"
     ]
    }
   ],
   "source": [
    "# 还可以使用字典来代替上述的columns,但必须至少有一个字典的value值是列表，否则会出错\n",
    "data3 = pd.DataFrame({'x':[1,2,3,4,5],'y':['a','a','b','b','c']})\n",
    "print(data3)\n",
    "print('--------------------')\n",
    "data3 = pd.DataFrame({'x':[2, 3],'y': 2})\n",
    "print(data3)"
   ]
  },
  {
   "cell_type": "code",
   "execution_count": 51,
   "metadata": {
    "scrolled": true
   },
   "outputs": [
    {
     "name": "stdout",
     "output_type": "stream",
     "text": [
      "float64\n",
      "----------------------\n",
      "x    int64\n",
      "y    int64\n",
      "dtype: object\n"
     ]
    }
   ],
   "source": [
    "# dtypes属性，使用该属性可以看Seris或DataFrame元素的数据类型\n",
    "print(s.dtypes)\n",
    "print('----------------------')\n",
    "print(data3.dtypes)"
   ]
  },
  {
   "cell_type": "code",
   "execution_count": 52,
   "metadata": {
    "scrolled": true
   },
   "outputs": [
    {
     "name": "stdout",
     "output_type": "stream",
     "text": [
      "RangeIndex(start=0, stop=6, step=1)\n",
      "DatetimeIndex(['2018-02-01', '2018-02-02', '2018-02-03', '2018-02-04',\n",
      "               '2018-02-05', '2018-02-06'],\n",
      "              dtype='datetime64[ns]', freq='D')\n",
      "RangeIndex(start=0, stop=2, step=1)\n"
     ]
    }
   ],
   "source": [
    "# index属性，使用 该属性可以输出所有行的名字\n",
    "print(s.index)\n",
    "print(data2.index)\n",
    "print(data3.index)"
   ]
  },
  {
   "cell_type": "code",
   "execution_count": 53,
   "metadata": {
    "scrolled": true
   },
   "outputs": [
    {
     "name": "stdout",
     "output_type": "stream",
     "text": [
      "Index(['a', 'b', 'c', 'd'], dtype='object')\n"
     ]
    }
   ],
   "source": [
    "# columns属性，使用该属性可以打印DataFrame所有列的名字\n",
    "print(data2.columns)"
   ]
  },
  {
   "cell_type": "code",
   "execution_count": 54,
   "metadata": {
    "scrolled": false
   },
   "outputs": [
    {
     "name": "stdout",
     "output_type": "stream",
     "text": [
      "[ 1.  3.  6. nan 44.  1.]\n",
      "[[-0.36653126  0.9671432   2.92517818 -1.10615897]\n",
      " [-0.50175694 -1.3390985  -0.01997823  1.25239191]\n",
      " [ 0.14936062  1.34879475  0.99723994 -0.03291228]\n",
      " [-1.10481198 -0.28603855 -0.91955535 -0.11218188]\n",
      " [-2.44361966  0.2523115   0.84739061  1.24223709]\n",
      " [ 0.71404173  1.12805734 -1.62449118  0.10262123]]\n"
     ]
    }
   ],
   "source": [
    "# values属性，使用该属性可以打印Sereis和DataFrame的值\n",
    "print(s.values)\n",
    "print(data2.values)"
   ]
  },
  {
   "cell_type": "code",
   "execution_count": 55,
   "metadata": {
    "scrolled": false
   },
   "outputs": [
    {
     "name": "stdout",
     "output_type": "stream",
     "text": [
      "              a         b         c         d\n",
      "count  6.000000  6.000000  6.000000  6.000000\n",
      "mean  -0.592220  0.345195  0.367631  0.224333\n",
      "std    1.095976  1.024776  1.608929  0.900830\n",
      "min   -2.443620 -1.339098 -1.624491 -1.106159\n",
      "25%   -0.954048 -0.151451 -0.694661 -0.092364\n",
      "50%   -0.434144  0.609727  0.413706  0.034854\n",
      "75%    0.020388  1.087829  0.959778  0.957333\n",
      "max    0.714042  1.348795  2.925178  1.252392\n"
     ]
    }
   ],
   "source": [
    "# describe方法，显示整个DataFrame的简介，它只能运算数字，对于非数值型数据，describe会产生另外一种汇总统计。\n",
    "\n",
    "\n",
    "# count表示每一类的元素，mean表示算术平均值，std表示标准差，min表示最小值，max表示最大值，25%：25%分位数，50% 50%分位数(中位数)，75%：75%分位数\n",
    "print(data2.describe())"
   ]
  },
  {
   "cell_type": "code",
   "execution_count": 56,
   "metadata": {
    "scrolled": false
   },
   "outputs": [
    {
     "data": {
      "text/html": [
       "<div>\n",
       "<style scoped>\n",
       "    .dataframe tbody tr th:only-of-type {\n",
       "        vertical-align: middle;\n",
       "    }\n",
       "\n",
       "    .dataframe tbody tr th {\n",
       "        vertical-align: top;\n",
       "    }\n",
       "\n",
       "    .dataframe thead th {\n",
       "        text-align: right;\n",
       "    }\n",
       "</style>\n",
       "<table border=\"1\" class=\"dataframe\">\n",
       "  <thead>\n",
       "    <tr style=\"text-align: right;\">\n",
       "      <th></th>\n",
       "      <th>a</th>\n",
       "      <th>b</th>\n",
       "      <th>c</th>\n",
       "      <th>d</th>\n",
       "    </tr>\n",
       "  </thead>\n",
       "  <tbody>\n",
       "    <tr>\n",
       "      <th>2018-02-01</th>\n",
       "      <td>-0.366531</td>\n",
       "      <td>0.967143</td>\n",
       "      <td>2.925178</td>\n",
       "      <td>-1.106159</td>\n",
       "    </tr>\n",
       "    <tr>\n",
       "      <th>2018-02-02</th>\n",
       "      <td>-0.501757</td>\n",
       "      <td>-1.339098</td>\n",
       "      <td>-0.019978</td>\n",
       "      <td>1.252392</td>\n",
       "    </tr>\n",
       "    <tr>\n",
       "      <th>2018-02-03</th>\n",
       "      <td>0.149361</td>\n",
       "      <td>1.348795</td>\n",
       "      <td>0.997240</td>\n",
       "      <td>-0.032912</td>\n",
       "    </tr>\n",
       "    <tr>\n",
       "      <th>2018-02-04</th>\n",
       "      <td>-1.104812</td>\n",
       "      <td>-0.286039</td>\n",
       "      <td>-0.919555</td>\n",
       "      <td>-0.112182</td>\n",
       "    </tr>\n",
       "    <tr>\n",
       "      <th>2018-02-05</th>\n",
       "      <td>-2.443620</td>\n",
       "      <td>0.252311</td>\n",
       "      <td>0.847391</td>\n",
       "      <td>1.242237</td>\n",
       "    </tr>\n",
       "    <tr>\n",
       "      <th>2018-02-06</th>\n",
       "      <td>0.714042</td>\n",
       "      <td>1.128057</td>\n",
       "      <td>-1.624491</td>\n",
       "      <td>0.102621</td>\n",
       "    </tr>\n",
       "  </tbody>\n",
       "</table>\n",
       "</div>"
      ],
      "text/plain": [
       "                   a         b         c         d\n",
       "2018-02-01 -0.366531  0.967143  2.925178 -1.106159\n",
       "2018-02-02 -0.501757 -1.339098 -0.019978  1.252392\n",
       "2018-02-03  0.149361  1.348795  0.997240 -0.032912\n",
       "2018-02-04 -1.104812 -0.286039 -0.919555 -0.112182\n",
       "2018-02-05 -2.443620  0.252311  0.847391  1.242237\n",
       "2018-02-06  0.714042  1.128057 -1.624491  0.102621"
      ]
     },
     "execution_count": 56,
     "metadata": {},
     "output_type": "execute_result"
    }
   ],
   "source": [
    "# sort_index方法，针对对应维度进行排序，参数axis表示维度，可选参数ascending：True表示升序，False表示降序\n",
    "data2.sort_index(axis=0)"
   ]
  },
  {
   "cell_type": "code",
   "execution_count": 57,
   "metadata": {
    "scrolled": false
   },
   "outputs": [
    {
     "name": "stdout",
     "output_type": "stream",
     "text": [
      "                   a         b         c         d\n",
      "2018-02-06  0.714042  1.128057 -1.624491  0.102621\n",
      "2018-02-03  0.149361  1.348795  0.997240 -0.032912\n",
      "2018-02-01 -0.366531  0.967143  2.925178 -1.106159\n",
      "2018-02-02 -0.501757 -1.339098 -0.019978  1.252392\n",
      "2018-02-04 -1.104812 -0.286039 -0.919555 -0.112182\n",
      "2018-02-05 -2.443620  0.252311  0.847391  1.242237\n"
     ]
    }
   ],
   "source": [
    "# sort_value方法，针对值进行排序，参数by表示针对第几列,可选参数ascending：True表示升序，False表示降序\n",
    "print(data2.sort_values(by='a', ascending=False))"
   ]
  },
  {
   "cell_type": "code",
   "execution_count": 58,
   "metadata": {
    "scrolled": true
   },
   "outputs": [
    {
     "name": "stdout",
     "output_type": "stream",
     "text": [
      "2018-02-01   -0.366531\n",
      "2018-02-02   -0.501757\n",
      "2018-02-03    0.149361\n",
      "2018-02-04   -1.104812\n",
      "2018-02-05   -2.443620\n",
      "2018-02-06    0.714042\n",
      "Freq: D, Name: a, dtype: float64\n",
      "2018-02-01   -0.366531\n",
      "2018-02-02   -0.501757\n",
      "2018-02-03    0.149361\n",
      "2018-02-04   -1.104812\n",
      "2018-02-05   -2.443620\n",
      "2018-02-06    0.714042\n",
      "Freq: D, Name: a, dtype: float64\n",
      "-----------------------\n",
      "                   a         b         c         d\n",
      "2018-02-01 -0.366531  0.967143  2.925178 -1.106159\n",
      "2018-02-02 -0.501757 -1.339098 -0.019978  1.252392\n",
      "2018-02-03  0.149361  1.348795  0.997240 -0.032912\n",
      "                   a         b         c         d\n",
      "2018-02-01 -0.366531  0.967143  2.925178 -1.106159\n",
      "2018-02-02 -0.501757 -1.339098 -0.019978  1.252392\n",
      "2018-02-03  0.149361  1.348795  0.997240 -0.032912\n"
     ]
    }
   ],
   "source": [
    "# DataFrame的索引\n",
    "print(data2['a'])\n",
    "print(data2.a) # 这种写法和上述写法等价,取列索引为'a'的一列]\n",
    "print('-----------------------')\n",
    "print(data2[0:3]) # 选择data2的第0行到第2行\n",
    "print(data2['20180201': '20180203']) # 这种写法与上述写法等价"
   ]
  },
  {
   "cell_type": "code",
   "execution_count": 59,
   "metadata": {
    "scrolled": false
   },
   "outputs": [
    {
     "name": "stdout",
     "output_type": "stream",
     "text": [
      "a    0.149361\n",
      "b    1.348795\n",
      "c    0.997240\n",
      "d   -0.032912\n",
      "Name: 2018-02-03 00:00:00, dtype: float64\n",
      "                   a         b\n",
      "2018-02-01 -0.366531  0.967143\n",
      "2018-02-02 -0.501757 -1.339098\n",
      "2018-02-03  0.149361  1.348795\n",
      "2018-02-04 -1.104812 -0.286039\n",
      "2018-02-05 -2.443620  0.252311\n",
      "2018-02-06  0.714042  1.128057\n",
      "-------------------------------\n",
      "a    0.149361\n",
      "b    1.348795\n",
      "Name: 2018-02-03 00:00:00, dtype: float64\n"
     ]
    }
   ],
   "source": [
    "# DeataFrame selcet by label, 选择带有指定行标签或列标签的一整行或多行\n",
    "\n",
    "#loc方法是local的缩写，用来对标签进行选择\n",
    "print(data2.loc['20180203'])  # 选择带有20180203的一整行\n",
    "print(data2.loc[:, ['a', 'b']]) # 选择带有a标签和b标签的2列\n",
    "print('-------------------------------')\n",
    "print(data2.loc['20180203',['a', 'b']]) # 选择同时带有行标签和列标签的那一个值\n"
   ]
  },
  {
   "cell_type": "code",
   "execution_count": 60,
   "metadata": {},
   "outputs": [
    {
     "name": "stdout",
     "output_type": "stream",
     "text": [
      "a   -1.104812\n",
      "b   -0.286039\n",
      "c   -0.919555\n",
      "d   -0.112182\n",
      "Name: 2018-02-04 00:00:00, dtype: float64\n",
      "---------------------\n",
      "0.9972399352053056\n",
      "---------------------\n",
      "                   b         c\n",
      "2018-02-04 -0.286039 -0.919555\n",
      "2018-02-05  0.252311  0.847391\n",
      "---------------------\n",
      "                   b         c\n",
      "2018-02-02 -1.339098 -0.019978\n",
      "2018-02-04 -0.286039 -0.919555\n",
      "2018-02-06  1.128057 -1.624491\n"
     ]
    }
   ],
   "source": [
    "# iloc方法，与loc方法的区别是iloc是根据行号和列号来确定索引的\n",
    "print(data2.iloc[3]) # 选择第3行整行的数据\n",
    "print('---------------------')\n",
    "print(data2.iloc[2, 2]) # 选择第二行第二列的数据\n",
    "print('---------------------')\n",
    "print(data2.iloc[3:5, 1:3]) # 选择第三行到第四行的和第1列第2列的数据\n",
    "print('---------------------')\n",
    "print(data2.iloc[[1, 3, 5], 1:3]) # 选择不连续的三行以及第1列和第2列的数据"
   ]
  },
  {
   "cell_type": "code",
   "execution_count": 61,
   "metadata": {},
   "outputs": [
    {
     "name": "stdout",
     "output_type": "stream",
     "text": [
      "                   a         c\n",
      "2018-02-02 -0.501757 -0.019978\n",
      "2018-02-03  0.149361  0.997240\n"
     ]
    },
    {
     "name": "stderr",
     "output_type": "stream",
     "text": [
      "D:\\ProgramFiles\\lib\\site-packages\\ipykernel_launcher.py:2: DeprecationWarning: \n",
      ".ix is deprecated. Please use\n",
      ".loc for label based indexing or\n",
      ".iloc for positional indexing\n",
      "\n",
      "See the documentation here:\n",
      "http://pandas.pydata.org/pandas-docs/stable/indexing.html#ix-indexer-is-deprecated\n",
      "  \n"
     ]
    }
   ],
   "source": [
    "# ix方法，实现表现和行列号的混合筛选, pandas不推荐使用，已经被弃用\n",
    "print(data2.ix[1:3, ['a', 'c']])"
   ]
  },
  {
   "cell_type": "code",
   "execution_count": 62,
   "metadata": {
    "scrolled": false
   },
   "outputs": [
    {
     "name": "stdout",
     "output_type": "stream",
     "text": [
      "                a      b      c      d\n",
      "2018-02-01   True  False  False   True\n",
      "2018-02-02   True   True   True  False\n",
      "2018-02-03  False  False  False   True\n",
      "2018-02-04   True   True   True   True\n",
      "2018-02-05   True  False  False  False\n",
      "2018-02-06  False  False   True  False\n",
      "------------------\n",
      "                   a         b         c         d\n",
      "2018-02-01 -0.366531  0.967143  2.925178 -1.106159\n",
      "2018-02-02 -0.501757 -1.339098 -0.019978  1.252392\n",
      "2018-02-03  0.149361  1.348795  0.997240 -0.032912\n",
      "2018-02-04 -1.104812 -0.286039 -0.919555 -0.112182\n",
      "2018-02-05 -2.443620  0.252311  0.847391  1.242237\n",
      "2018-02-06  0.714042  1.128057 -1.624491  0.102621\n"
     ]
    }
   ],
   "source": [
    "# 比较运算符筛选\n",
    "print(data2< 0)\n",
    "print('------------------')\n",
    "print(data2[data2.a < 1])  # 如果某一列名字为T，则无法使用点运算符调用，而且会直接转置"
   ]
  }
 ],
 "metadata": {
  "kernelspec": {
   "display_name": "Python 3",
   "language": "python",
   "name": "python3"
  },
  "language_info": {
   "codemirror_mode": {
    "name": "ipython",
    "version": 3
   },
   "file_extension": ".py",
   "mimetype": "text/x-python",
   "name": "python",
   "nbconvert_exporter": "python",
   "pygments_lexer": "ipython3",
   "version": "3.6.8"
  }
 },
 "nbformat": 4,
 "nbformat_minor": 2
}
