{
 "cells": [
  {
   "cell_type": "code",
   "execution_count": 3,
   "metadata": {
    "scrolled": true
   },
   "outputs": [
    {
     "name": "stdout",
     "output_type": "stream",
     "text": [
      "[[1 2 3]\n",
      " [4 5 6]]\n",
      "number of dimension: 2\n",
      "shape: (2, 3)\n",
      "size: 6\n"
     ]
    }
   ],
   "source": [
    "import numpy as np\n",
    "\n",
    "# 定义一个二维的2行3列数组\n",
    "array = np.array([[1, 2, 3],\n",
    "                  [4,5, 6]])\n",
    "print(array)\n",
    "print(\"number of dimension:\", array.ndim)\n",
    "print(\"shape:\", array.shape)\n",
    "print(\"size:\", array.size)"
   ]
  },
  {
   "cell_type": "code",
   "execution_count": 4,
   "metadata": {
    "scrolled": false
   },
   "outputs": [
    {
     "name": "stdout",
     "output_type": "stream",
     "text": [
      "int32\n"
     ]
    }
   ],
   "source": [
    "# array的元素属性称为dtype，可以自定义，默认为列表中最高级的类型。\n",
    "# 默认是int32，和float64，如果需要32位，可以写成np.int32和np.float64\n",
    "A = np.array([1, 2333383, 4, 55], dtype=np.int)\n",
    "print(A.dtype)"
   ]
  },
  {
   "cell_type": "code",
   "execution_count": 14,
   "metadata": {
    "scrolled": false
   },
   "outputs": [
    {
     "name": "stdout",
     "output_type": "stream",
     "text": [
      "[[0. 0.]\n",
      " [0. 0.]\n",
      " [0. 0.]]\n"
     ]
    }
   ],
   "source": [
    "# 定义一个3行2列的矩阵全零矩阵\n",
    "zero = np.zeros((3, 2))\n",
    "print(zero)"
   ]
  },
  {
   "cell_type": "code",
   "execution_count": 19,
   "metadata": {},
   "outputs": [
    {
     "name": "stdout",
     "output_type": "stream",
     "text": [
      "[[0. 0.]\n",
      " [0. 0.]\n",
      " [0. 0.]]\n"
     ]
    }
   ],
   "source": [
    "# 定义一个3行2列的空矩阵，实际上不是空矩阵，是一个无意义的值\n",
    "empty = np.empty((3, 2))\n",
    "print(empty)"
   ]
  },
  {
   "cell_type": "code",
   "execution_count": 5,
   "metadata": {
    "scrolled": true
   },
   "outputs": [
    {
     "name": "stdout",
     "output_type": "stream",
     "text": [
      "[10 13 16]\n"
     ]
    }
   ],
   "source": [
    "# 定义一个一维等差数组，起始是10，末尾是20，步长是2,传入的值是不包括末尾\n",
    "arange = np.arange(10,19, 3)\n",
    "print(arange)"
   ]
  },
  {
   "cell_type": "code",
   "execution_count": 27,
   "metadata": {},
   "outputs": [
    {
     "name": "stdout",
     "output_type": "stream",
     "text": [
      "[[10 13]\n",
      " [16 19]]\n"
     ]
    }
   ],
   "source": [
    "# 改变数组的shape,如果元素不足则会报错\n",
    "arange1 = arange.reshape(2, 2)\n",
    "print(arange1)"
   ]
  },
  {
   "cell_type": "code",
   "execution_count": 30,
   "metadata": {
    "scrolled": false
   },
   "outputs": [
    {
     "name": "stdout",
     "output_type": "stream",
     "text": [
      "[[10.         10.52631579 11.05263158 11.57894737]\n",
      " [12.10526316 12.63157895 13.15789474 13.68421053]\n",
      " [14.21052632 14.73684211 15.26315789 15.78947368]\n",
      " [16.31578947 16.84210526 17.36842105 17.89473684]\n",
      " [18.42105263 18.94736842 19.47368421 20.        ]]\n"
     ]
    }
   ],
   "source": [
    "# 定义一个5行4列等差数组(使用linspace创建的一维等差数组又称线段），起始是10，结尾是20，一共有20个元素\n",
    "linspace = np.linspace(10, 20, 20).reshape(5, 4)\n",
    "print(linspace)"
   ]
  },
  {
   "cell_type": "code",
   "execution_count": 34,
   "metadata": {},
   "outputs": [
    {
     "name": "stdout",
     "output_type": "stream",
     "text": [
      "[101 202 303 404]\n",
      "[ 99 198 297 396]\n",
      "[ 100  400  900 1600]\n",
      "[100. 100. 100. 100.]\n",
      "[ 1  4  9 16]\n"
     ]
    }
   ],
   "source": [
    "# numpy的一维数组四则运算\n",
    "a = np.array([100, 200, 300, 400])\n",
    "b = np.arange(1, 5)\n",
    "print(a + b) # 加法\n",
    "print(a - b) # 减法\n",
    "print(a * b) # 乘法\n",
    "print(a / b) # 除法\n",
    "print(b ** 2) #平方"
   ]
  },
  {
   "cell_type": "code",
   "execution_count": 36,
   "metadata": {},
   "outputs": [
    {
     "name": "stdout",
     "output_type": "stream",
     "text": [
      "[100 200 300 400]\n",
      "[False False  True  True]\n"
     ]
    }
   ],
   "source": [
    "# 判断矩阵与某个值的关系\n",
    "print(a)\n",
    "print(a > 200)"
   ]
  },
  {
   "cell_type": "code",
   "execution_count": 38,
   "metadata": {},
   "outputs": [
    {
     "name": "stdout",
     "output_type": "stream",
     "text": [
      "[[0 2]\n",
      " [3 0]]\n",
      "[[3 4]\n",
      " [1 2]]\n",
      "[[3 4]\n",
      " [1 2]]\n"
     ]
    }
   ],
   "source": [
    "# numpy二(n)维数组(矩阵)的四则运算\n",
    "a = np.array([[0, 1],\n",
    "              [1, 0]])\n",
    "b = np.arange(1, 5).reshape(2, 2)\n",
    "print(a * b)  # 普通乘号为逐个相乘\n",
    "print(a.dot(b)) # dot方法为矩阵乘法\n",
    "print(np.dot(a, b)) #跟上述的dot方法等价\n"
   ]
  },
  {
   "cell_type": "code",
   "execution_count": 40,
   "metadata": {
    "scrolled": true
   },
   "outputs": [
    {
     "name": "stdout",
     "output_type": "stream",
     "text": [
      "[[3.47415973e-01 7.23522808e-04 8.39990182e-01 7.02378378e-01]\n",
      " [4.07840570e-02 5.52537457e-01 4.41854631e-01 5.19415534e-01]]\n"
     ]
    }
   ],
   "source": [
    "# 创建一个随机生成的array,下述是一个2行4列的数组\n",
    "a = np.random.random((2, 4))\n",
    "print(a)"
   ]
  },
  {
   "cell_type": "code",
   "execution_count": 44,
   "metadata": {
    "scrolled": true
   },
   "outputs": [
    {
     "name": "stdout",
     "output_type": "stream",
     "text": [
      "0.8399901822412776\n",
      "0.0007235228076358791\n",
      "3.445099735031879\n",
      "[0.83999018 0.55253746]\n"
     ]
    }
   ],
   "source": [
    "# 计算矩阵中的最大值，最小值，求和\n",
    "# 通过指定不同的axis，numpy会沿着不同的方向进行操作，如果不设置，则表示对所有的元素进行操作，\n",
    "# 如果axis=0，则沿着纵轴进行操作，若axis=1则沿着横轴进行操作。但是这只是仅仅对于二维数组而言。\n",
    "# 但是可以总结为一句话：设axis=i ,则numpy沿着第i个下标变化的方向进行操作\n",
    "print(np.max(a))\n",
    "print(np.min(a))\n",
    "print(np.sum(a))\n",
    "print(np.max(a, axis=1)) # axis代表维度，0代表行，1代表列，依次类推 ，如果axis=1表示行的最大值，axis=0表示列的最大值"
   ]
  },
  {
   "cell_type": "code",
   "execution_count": 45,
   "metadata": {},
   "outputs": [
    {
     "name": "stdout",
     "output_type": "stream",
     "text": [
      "2\n",
      "1\n"
     ]
    }
   ],
   "source": [
    "# 计算矩阵最大值，最小值的索引\n",
    "print(np.argmax(a))\n",
    "print(np.argmin(a))"
   ]
  },
  {
   "cell_type": "code",
   "execution_count": 64,
   "metadata": {
    "scrolled": false
   },
   "outputs": [
    {
     "name": "stdout",
     "output_type": "stream",
     "text": [
      "[[14 13 12 11]\n",
      " [10  9  8  7]\n",
      " [ 6  5  4  3]]\n",
      "8.5\n",
      "8.5\n",
      "8.5\n",
      "8.5\n",
      "[12.5  8.5  4.5]\n"
     ]
    }
   ],
   "source": [
    "# 计算矩阵的平均值和中位数，可指定axis参数\n",
    "print(a)\n",
    "print(np.mean(a))\n",
    "print(a.mean())   # 与上面的写法等价\n",
    "print(np.average(a)) # 与上面的写法等价，但是average函数可以计算加权平均数，而mean直接计算平均数\n",
    "print(np.median(a))\n",
    "print(np.median(a, axis=1)) # axis=1返回每一行的平均值数组，axis=0返回每一列的平均值数组\n",
    "#这里可以想象成数组的合并，axis=1表示把所有元组合并到第一列，所以相当于求行平均，axis=0表示把所有元素合并到第一行，所以相当于求列平均"
   ]
  },
  {
   "cell_type": "code",
   "execution_count": 7,
   "metadata": {
    "scrolled": true
   },
   "outputs": [
    {
     "name": "stdout",
     "output_type": "stream",
     "text": [
      "[  1   3   6  10  15  21  28  36  45  55  66  78  91 105 120 136]\n",
      "[[ 1  2  3  4]\n",
      " [ 5  6  7  8]\n",
      " [ 9 10 11 12]\n",
      " [13 14 15 16]]\n",
      "[[1 1 1]\n",
      " [1 1 1]\n",
      " [1 1 1]\n",
      " [1 1 1]]\n"
     ]
    }
   ],
   "source": [
    "# 生成一个累加和累的数组\n",
    "a = np.arange(1, 17).reshape((4, 4))\n",
    "print(np.cumsum(a)) # 第一个元素是第一个的值，第二个的元素第一个和第二个元素的值，依此类推\n",
    "print(a)\n",
    "# diff函数如果对二位数组使用，则对每一个数组单独求一次diff，如下面的例子，每一行后一个元素减前一个元素的差都是1，所以得到12个1的矩阵\n",
    "print(np.diff(a))  # 第一个元素是第一个的值，第二个是它和前一个元素的差，第三个是第三个元素和第二个元素的差，依次类推"
   ]
  },
  {
   "cell_type": "code",
   "execution_count": 52,
   "metadata": {},
   "outputs": [
    {
     "name": "stdout",
     "output_type": "stream",
     "text": [
      "(array([0, 0, 0, 0, 1, 1, 1, 1, 2, 2, 2, 2, 3, 3, 3, 3], dtype=int64), array([0, 1, 2, 3, 0, 1, 2, 3, 0, 1, 2, 3, 0, 1, 2, 3], dtype=int64))\n"
     ]
    }
   ],
   "source": [
    "# 找出数组中的非零数,返回2个array，第一个表示行索引，第二个表示列索引，比如第一个表示0行0列的数是非0元素\n",
    "print(np.nonzero(a))"
   ]
  },
  {
   "cell_type": "code",
   "execution_count": 57,
   "metadata": {
    "scrolled": true
   },
   "outputs": [
    {
     "name": "stdout",
     "output_type": "stream",
     "text": [
      "[[14 13 12 11]\n",
      " [10  9  8  7]\n",
      " [ 6  5  4  3]]\n",
      "[[11 12 13 14]\n",
      " [ 7  8  9 10]\n",
      " [ 3  4  5  6]]\n"
     ]
    }
   ],
   "source": [
    "# 对数组元素逐行进行排序\n",
    "a = np.arange(14, 2, -1).reshape((3, 4))\n",
    "print(a)\n",
    "print(np.sort(a))"
   ]
  },
  {
   "cell_type": "code",
   "execution_count": 60,
   "metadata": {
    "scrolled": true
   },
   "outputs": [
    {
     "name": "stdout",
     "output_type": "stream",
     "text": [
      "[[14 10  6]\n",
      " [13  9  5]\n",
      " [12  8  4]\n",
      " [11  7  3]]\n",
      "[[14 10  6]\n",
      " [13  9  5]\n",
      " [12  8  4]\n",
      " [11  7  3]]\n"
     ]
    }
   ],
   "source": [
    "# 矩阵的转置\n",
    "print(a)\n",
    "print(np.transpose(a))\n",
    "print(a.T) # 与上述写法等价"
   ]
  },
  {
   "cell_type": "code",
   "execution_count": 61,
   "metadata": {
    "scrolled": true
   },
   "outputs": [
    {
     "name": "stdout",
     "output_type": "stream",
     "text": [
      "[[9 9 9 9]\n",
      " [9 9 8 7]\n",
      " [6 5 4 3]]\n"
     ]
    }
   ],
   "source": [
    "# 限制矩阵元素的值在最小值(3)和最大值(9)之间，所以大于9的数都变成9，所以小于3的元素都变成3\n",
    "print(np.clip(a, 3, 9))"
   ]
  },
  {
   "cell_type": "code",
   "execution_count": 5,
   "metadata": {},
   "outputs": [
    {
     "name": "stdout",
     "output_type": "stream",
     "text": [
      "[[ 1  2  3  4]\n",
      " [ 5  6  7  8]\n",
      " [ 9 10 11 12]]\n",
      "[ 9 10 11 12]\n",
      "12\n",
      "12\n",
      "[ 9 10 11 12]\n",
      "[ 2  6 10]\n"
     ]
    }
   ],
   "source": [
    "# 数组的索引\n",
    "a = np.arange(1, 13).reshape(3, 4)\n",
    "print(a)\n",
    "print(a[2])\n",
    "print(a[2][3])\n",
    "print(a[2, 3]) # 与上述写法等价\n",
    "print(a[2,:]) # 第2行所有数\n",
    "print(a[:,1]) # 第1列所有数"
   ]
  },
  {
   "cell_type": "code",
   "execution_count": 6,
   "metadata": {},
   "outputs": [
    {
     "name": "stdout",
     "output_type": "stream",
     "text": [
      "[1 2 3 4]\n",
      "[5 6 7 8]\n",
      "[ 9 10 11 12]\n",
      "[1 5 9]\n",
      "[ 2  6 10]\n",
      "[ 3  7 11]\n",
      "[ 4  8 12]\n"
     ]
    }
   ],
   "source": [
    "# 迭代数组的每一行，每一列\n",
    "for row in a:\n",
    "    print(row)\n",
    "\n",
    "for col in a.T:  # 迭代矩阵的转置从而迭代行\n",
    "    print(col)"
   ]
  },
  {
   "cell_type": "code",
   "execution_count": 8,
   "metadata": {
    "scrolled": true
   },
   "outputs": [
    {
     "name": "stdout",
     "output_type": "stream",
     "text": [
      "1\n",
      "2\n",
      "3\n",
      "4\n",
      "5\n",
      "6\n",
      "7\n",
      "8\n",
      "9\n",
      "10\n",
      "11\n",
      "12\n",
      "[ 1  2  3  4  5  6  7  8  9 10 11 12]\n"
     ]
    }
   ],
   "source": [
    "# 把n维数组变成一维数组\n",
    "for e in a.flat:  # a.flat是一个迭代器\n",
    "    print(e)\n",
    "print(a.flatten()) # a.flateen()返回一个一维数组"
   ]
  },
  {
   "cell_type": "code",
   "execution_count": 23,
   "metadata": {
    "scrolled": false
   },
   "outputs": [
    {
     "name": "stdout",
     "output_type": "stream",
     "text": [
      "[[1 1 1]\n",
      " [2 2 2]]\n",
      "[1 1 1 2 2 2]\n"
     ]
    }
   ],
   "source": [
    "# 合并array\n",
    "a = np.array([1, 1, 1])\n",
    "b = np.array([2, 2, 2])\n",
    "print(np.vstack((a, b))) # vertical stack 上下合并(1,3) + (1,3) = (2, 3)\n",
    "print(np.hstack((a, b))) # herizontal stack 左右合并 （1,3） + （1，3） = （1，6）"
   ]
  },
  {
   "cell_type": "code",
   "execution_count": 18,
   "metadata": {
    "scrolled": true
   },
   "outputs": [
    {
     "name": "stdout",
     "output_type": "stream",
     "text": [
      "(3, 1)\n",
      "(1, 3)\n",
      "[[[1]\n",
      "  [1]\n",
      "  [1]]]\n",
      "[[[1]]\n",
      "\n",
      " [[1]]\n",
      "\n",
      " [[1]]]\n",
      "(1, 3)\n"
     ]
    }
   ],
   "source": [
    "# 实现序列(一维数组)真正的转置\n",
    "\n",
    "print(a.shape)\n",
    "print(a.T.shape)\n",
    "# 观察到，上述的转置根本没有改变原序列的shape,因为一维数组只有行而没有列\n",
    "\n",
    "#给数组增加一个在行(列)上增加一个维度\n",
    "print(a[np.newaxis,:])\n",
    "print(a[:, np.newaxis])\n",
    "\n",
    "#我们可以使用给列增加维度来实现一维数组的转置\n",
    "a = np.array([1, 1, 1])[:, np.newaxis]\n",
    "b = np.array([2, 2, 2])[:, np.newaxis]\n",
    "print(a.T.shape)  # 这样就实现了一维数组的转置\n"
   ]
  },
  {
   "cell_type": "code",
   "execution_count": 19,
   "metadata": {},
   "outputs": [
    {
     "name": "stdout",
     "output_type": "stream",
     "text": [
      "(3,)\n",
      "(3, 1)\n",
      "(1, 3)\n"
     ]
    }
   ],
   "source": [
    "#还可以对一位数组的shape属性进行操作\n",
    "a = np.array([1, 1, 1])\n",
    "print(a.shape)\n",
    "a.shape = (3, 1)\n",
    "print(a.shape)\n",
    "print(a.T.shape)"
   ]
  },
  {
   "cell_type": "code",
   "execution_count": 20,
   "metadata": {
    "scrolled": true
   },
   "outputs": [
    {
     "name": "stdout",
     "output_type": "stream",
     "text": [
      "(3, 1)\n",
      "(1, 3)\n"
     ]
    }
   ],
   "source": [
    "# 或者使用reshape函数对其进行操作\n",
    "a = np.array([1, 1, 1])\n",
    "a = a.reshape(a.shape[0], 1)\n",
    "print(a.shape)\n",
    "print(a.T.shape)"
   ]
  },
  {
   "cell_type": "code",
   "execution_count": 24,
   "metadata": {},
   "outputs": [
    {
     "name": "stdout",
     "output_type": "stream",
     "text": [
      "[[ 0  1  2  3]\n",
      " [ 4  5  6  7]\n",
      " [ 8  9 10 11]]\n",
      "[array([[0, 1],\n",
      "       [4, 5],\n",
      "       [8, 9]]), array([[ 2,  3],\n",
      "       [ 6,  7],\n",
      "       [10, 11]])]\n",
      "[array([[0, 1, 2, 3]]), array([[4, 5, 6, 7]]), array([[ 8,  9, 10, 11]])]\n"
     ]
    }
   ],
   "source": [
    "# 数组的分割 注，split函数无法进行不等的分割\n",
    "a = np.arange(12).reshape(3, 4)\n",
    "print(a)\n",
    "print(np.split(a, 2, axis=1)) # 沿着纵轴分割\n",
    "print(np.split(a, 3, axis=0)) # 沿着横轴分割 "
   ]
  },
  {
   "cell_type": "code",
   "execution_count": 25,
   "metadata": {},
   "outputs": [
    {
     "name": "stdout",
     "output_type": "stream",
     "text": [
      "[array([[0, 1],\n",
      "       [4, 5],\n",
      "       [8, 9]]), array([[ 2],\n",
      "       [ 6],\n",
      "       [10]]), array([[ 3],\n",
      "       [ 7],\n",
      "       [11]])]\n"
     ]
    }
   ],
   "source": [
    "# 数组的分割 array_split函数可以进行不等的分割\n",
    "print(np.array_split(a, 3, axis=1))  #分割的三个array中，第一个包含了2列，后面的只包含1列"
   ]
  },
  {
   "cell_type": "code",
   "execution_count": 26,
   "metadata": {
    "scrolled": true
   },
   "outputs": [
    {
     "name": "stdout",
     "output_type": "stream",
     "text": [
      "[array([[0, 1, 2, 3]]), array([[4, 5, 6, 7]]), array([[ 8,  9, 10, 11]])]\n",
      "[array([[0, 1],\n",
      "       [4, 5],\n",
      "       [8, 9]]), array([[ 2,  3],\n",
      "       [ 6,  7],\n",
      "       [10, 11]])]\n"
     ]
    }
   ],
   "source": [
    "# 更简便的分割函数\n",
    "print(np.vsplit(a, 3))  # 纵向分割成3块\n",
    "print(np.hsplit(a, 2))  # 横向分割成2份"
   ]
  },
  {
   "cell_type": "code",
   "execution_count": 33,
   "metadata": {},
   "outputs": [
    {
     "name": "stdout",
     "output_type": "stream",
     "text": [
      "[0 1 2 3]\n",
      "[4 1 2 3]\n",
      "True\n",
      "[4 1 2 3]\n"
     ]
    }
   ],
   "source": [
    "# 数组的浅拷贝和深拷贝\n",
    "a = np.arange(4)\n",
    "print(a)\n",
    "b = a\n",
    "a[0] = 4\n",
    "print(b)  # 此处是浅拷贝，只是b指向a数组的索引，a改变了b也会被改变\n",
    "print(b is a)  # is是身份运算符，判断两个标识符是不是引用自一个对象\n",
    "c = a.copy()   # copy函数是一个深拷贝函数，会重新分配一个内存给新数组，不会与a进行关联\n",
    "a[1] = 3\n",
    "print(c)  # 此处a改变c不会被改变\n"
   ]
  }
 ],
 "metadata": {
  "kernelspec": {
   "display_name": "Python 3",
   "language": "python",
   "name": "python3"
  },
  "language_info": {
   "codemirror_mode": {
    "name": "ipython",
    "version": 3
   },
   "file_extension": ".py",
   "mimetype": "text/x-python",
   "name": "python",
   "nbconvert_exporter": "python",
   "pygments_lexer": "ipython3",
   "version": "3.6.8"
  }
 },
 "nbformat": 4,
 "nbformat_minor": 2
}
